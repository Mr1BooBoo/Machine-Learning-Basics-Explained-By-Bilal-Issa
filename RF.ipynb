{
 "cells": [
  {
   "cell_type": "code",
   "execution_count": 6,
   "id": "a83da949",
   "metadata": {},
   "outputs": [
    {
     "data": {
      "application/vnd.jupyter.widget-view+json": {
       "model_id": "02521c7a17244934b831689723d9f8a2",
       "version_major": 2,
       "version_minor": 0
      },
      "text/plain": [
       "interactive(children=(IntSlider(value=10, description='n_estimators', max=50, min=1, step=5), IntSlider(value=…"
      ]
     },
     "metadata": {},
     "output_type": "display_data"
    }
   ],
   "source": [
    "import numpy as np\n",
    "import matplotlib.pyplot as plt\n",
    "from sklearn.datasets import make_classification\n",
    "from sklearn.ensemble import RandomForestClassifier\n",
    "from sklearn.model_selection import train_test_split\n",
    "from sklearn.metrics import accuracy_score, precision_score, recall_score, f1_score\n",
    "import ipywidgets as widgets\n",
    "from IPython.display import display\n",
    "\n",
    "# Generate a synthetic dataset for a simple clasification problem\n",
    "X, y = make_classification(n_samples=100, n_features=2, n_informative=2, n_redundant=0, random_state=42)\n",
    "X_train, X_test, y_train, y_test = train_test_split(X, y, test_size=0.2, random_state=42)\n",
    "\n",
    "# call a Random Forest classifier using the sklearn library\n",
    "rf_classifier = RandomForestClassifier()\n",
    "\n",
    "# Define the slider widget parameters using the Ipywidgets library (change the values to see the effects of each of them)\n",
    "# Check the source code for more explanation here: https://ipywidgets.readthedocs.io/en/stable/\n",
    "n_estimators_slider = widgets.IntSlider(min=1, max=50, step=5, value=10, description='n_estimators')\n",
    "max_depth_slider = widgets.IntSlider(min=1, max=10, step=2, value=5, description='max_depth')\n",
    "random_state_slider = widgets.IntSlider(min=1, max=50, step=5, value=42, description='random_state')\n",
    "threshold_slider = widgets.FloatSlider(min=0.0, max=1.0, step=0.1, value=0.5, description='threshold')\n",
    "\n",
    "# Create the update function (plotting), where we see the effect of different slider values on our model  \n",
    "def update_rf(n_estimators, max_depth, random_state, threshold):\n",
    "    # Update the random forest classifier with the new parameters\n",
    "    rf_classifier.set_params(n_estimators=n_estimators, max_depth=max_depth, random_state=random_state)\n",
    "\n",
    "    # Train the random forest classifier\n",
    "    rf_classifier.fit(X_train, y_train)\n",
    "\n",
    "    # Make predictions on the test set\n",
    "    y_pred_proba = rf_classifier.predict_proba(X_test)\n",
    "    y_pred = (y_pred_proba[:, 1] >= threshold).astype(int)\n",
    "\n",
    "    # Calculate evaluation metrics\n",
    "    accuracy = accuracy_score(y_test, y_pred)\n",
    "    precision = precision_score(y_test, y_pred)\n",
    "    recall = recall_score(y_test, y_pred)\n",
    "    f1 = f1_score(y_test, y_pred)\n",
    "\n",
    "    # Plot evaluation metrics\n",
    "    metrics = ['Accuracy', 'Precision', 'Recall', 'F1-Score']\n",
    "    values = [accuracy, precision, recall, f1]\n",
    "\n",
    "    plt.figure(figsize=(6, 5))\n",
    "    plt.bar(metrics, values, color=(0.2, 0.4, 0.6, 0.6))\n",
    "    plt.xlabel('Evaluation Metrics')\n",
    "    plt.ylabel('Score percentage %')\n",
    "    plt.title('Performance Metrics')\n",
    "    plt.ylim([0, 1])\n",
    "    plt.show()\n",
    "\n",
    "# Create the interactive widget\n",
    "interactive_rf = widgets.interactive(update_rf,\n",
    "                                     n_estimators=n_estimators_slider,\n",
    "                                     max_depth=max_depth_slider,\n",
    "                                     random_state=random_state_slider,\n",
    "                                     threshold=threshold_slider)\n",
    "\n",
    "# Display the widget\n",
    "display(interactive_rf)\n"
   ]
  },
  {
   "cell_type": "code",
   "execution_count": null,
   "id": "94905cb5",
   "metadata": {},
   "outputs": [],
   "source": []
  }
 ],
 "metadata": {
  "kernelspec": {
   "display_name": "Python 3 (ipykernel)",
   "language": "python",
   "name": "python3"
  },
  "language_info": {
   "codemirror_mode": {
    "name": "ipython",
    "version": 3
   },
   "file_extension": ".py",
   "mimetype": "text/x-python",
   "name": "python",
   "nbconvert_exporter": "python",
   "pygments_lexer": "ipython3",
   "version": "3.9.13"
  }
 },
 "nbformat": 4,
 "nbformat_minor": 5
}
