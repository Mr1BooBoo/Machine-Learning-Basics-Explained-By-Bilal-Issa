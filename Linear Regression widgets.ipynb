{
 "cells": [
  {
   "cell_type": "code",
   "execution_count": 1,
   "id": "551bbb45",
   "metadata": {},
   "outputs": [
    {
     "data": {
      "application/vnd.jupyter.widget-view+json": {
       "model_id": "f65172146b304811b03dad4f3077868a",
       "version_major": 2,
       "version_minor": 0
      },
      "text/plain": [
       "interactive(children=(FloatSlider(value=2.0, description='Slope', max=10.0, min=0.1, step=1.0), Output()), _do…"
      ]
     },
     "metadata": {},
     "output_type": "display_data"
    }
   ],
   "source": [
    "#import necessary libraries and dependencies\n",
    "import numpy as np\n",
    "import matplotlib.pyplot as plt\n",
    "import ipywidgets as widgets\n",
    "from IPython.display import display\n",
    "\n",
    "# Create a simple dataset for a simple regression problem\n",
    "np.random.seed(42)\n",
    "X = np.linspace(-5, 5, 100).reshape(-1, 1)\n",
    "y = 2 * X + np.random.normal(0, 1, size=(100, 1))\n",
    "\n",
    "# Define the slider widget parameters using the Ipywidgets library (change the values to see the effects of each of them)\n",
    "# Check the source code for more explanation here: https://ipywidgets.readthedocs.io/en/stable/\n",
    "slope_widget = widgets.FloatSlider(value=2.0, min=0.1, max=10.0, step=1, description='Slope')\n",
    "\n",
    "# Define the plot function, where we see the effect of different slider values on our model  \n",
    "def plot_model_results(slope):\n",
    "    # Calculate the predictions\n",
    "    y_pred = slope * X\n",
    "\n",
    "    # Calculate mean squared error (the evaluation metric of our model)\n",
    "    mse = np.mean((y - y_pred) ** 2)\n",
    "\n",
    "    # Plot the data points and the regression line\n",
    "    plt.scatter(X, y, color='blue', edgecolors='k') # we used scatter to plot the scattered data points\n",
    "    plt.plot(X, y_pred, color='red', linewidth=2) #plot the regression line\n",
    "    plt.xlabel('Feature') # set the label of the X axis\n",
    "    plt.ylabel('Target') # set the label of the Y axis\n",
    "    plt.title(f'Linear Regression (Slope={slope:.2f}), MSE: {mse:.4f}') #print essential info such as the current slope and MSE on the plot\n",
    "    plt.xlim([-5, 5])  # Set x-axis limits for better visualizations (try commenting this line and the following one to see the difference)\n",
    "    plt.ylim([-10, 10])  # Set y-axis limits\n",
    "    plt.grid(True)\n",
    "    plt.show()\n",
    "\n",
    "# Create the interactive interface\n",
    "interactive_plot = widgets.interactive(plot_model_results, slope=slope_widget)\n",
    "\n",
    "# Display the interactive plot\n",
    "display(interactive_plot)\n"
   ]
  },
  {
   "cell_type": "code",
   "execution_count": null,
   "id": "a40d5454",
   "metadata": {},
   "outputs": [],
   "source": []
  }
 ],
 "metadata": {
  "kernelspec": {
   "display_name": "Python 3 (ipykernel)",
   "language": "python",
   "name": "python3"
  },
  "language_info": {
   "codemirror_mode": {
    "name": "ipython",
    "version": 3
   },
   "file_extension": ".py",
   "mimetype": "text/x-python",
   "name": "python",
   "nbconvert_exporter": "python",
   "pygments_lexer": "ipython3",
   "version": "3.9.13"
  }
 },
 "nbformat": 4,
 "nbformat_minor": 5
}
