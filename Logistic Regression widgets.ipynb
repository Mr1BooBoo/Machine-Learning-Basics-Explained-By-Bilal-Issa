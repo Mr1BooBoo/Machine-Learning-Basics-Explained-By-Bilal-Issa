{
 "cells": [
  {
   "cell_type": "code",
   "execution_count": 1,
   "id": "26a38c30",
   "metadata": {},
   "outputs": [
    {
     "data": {
      "application/vnd.jupyter.widget-view+json": {
       "model_id": "1ff00d2d03414a9e939a248fcaa84f6a",
       "version_major": 2,
       "version_minor": 0
      },
      "text/plain": [
       "interactive(children=(FloatSlider(value=1.0, description='Slope', max=10.0, min=0.1, step=1.0), FloatSlider(va…"
      ]
     },
     "metadata": {},
     "output_type": "display_data"
    }
   ],
   "source": [
    "import numpy as np\n",
    "import matplotlib.pyplot as plt\n",
    "from sklearn.linear_model import LogisticRegression\n",
    "from sklearn.metrics import accuracy_score\n",
    "import ipywidgets as widgets\n",
    "from IPython.display import display\n",
    "\n",
    "# Create a simple dataset for binary classification\n",
    "np.random.seed(42)\n",
    "X = np.linspace(-5, 5, 100).reshape(-1, 1)\n",
    "y = np.where(X > 0, 1, 0)\n",
    "\n",
    "# Define the slider widget parameters using the Ipywidgets library (change the values to see the effects of each of them)\n",
    "# Check the source code for more explanation here: https://ipywidgets.readthedocs.io/en/stable/\n",
    "slope_widget = widgets.FloatSlider(value=1.0, min=0.1, max=10.0, step=1, description='Slope')\n",
    "threshold_widget = widgets.FloatSlider(value=0.5, min=0.1, max=0.9, step=0.1, description='Threshold')\n",
    "\n",
    "# Define the plot function, where we see the effect of different slider values on our model  \n",
    "def plot_model_results(slope, threshold):\n",
    "    # Create a logistic regression model using the sklearn library\n",
    "    model = LogisticRegression(solver='liblinear')\n",
    "\n",
    "    # Calculate the predictions\n",
    "    y_pred = (1 / (1 + np.exp(-slope * X))).ravel()\n",
    "\n",
    "    # Convert probabilities to binary predictions based on the threshold\n",
    "    y_pred_bin = np.where(y_pred >= threshold, 1, 0)\n",
    "\n",
    "    # Calculate accuracy\n",
    "    accuracy = accuracy_score(y, y_pred_bin)\n",
    "\n",
    "    # Plot the data points and the logistic regression curve\n",
    "    plt.scatter(X, y, color='blue', edgecolors='k') # we plot the original data points using the scatter function given the way they were generated.\n",
    "    plt.plot(X, y_pred, color='red', linewidth=2) # plot the logistic regression curve \n",
    "    plt.xlabel('Feature')\n",
    "    plt.ylabel('Target')\n",
    "    \n",
    "    # use the formating symbol before the string to be able to introduce variables inside of it.\n",
    "    plt.title(f'Logistic Regression (Slope={slope:.2f}, Threshold={threshold:.1f}), Accuracy: {accuracy:.4f}')\n",
    "    plt.xlim([-5, 5])  # Set x-axis limits\n",
    "    plt.ylim([-0.2, 1.2])  # Set y-axis limits\n",
    "    plt.grid(True) # for better visualization\n",
    "    plt.show()\n",
    "\n",
    "# Create the interactive interface\n",
    "interactive_plot = widgets.interactive(plot_model_results, slope=slope_widget, threshold=threshold_widget)\n",
    "\n",
    "# Display the interactive plot\n",
    "display(interactive_plot)\n"
   ]
  },
  {
   "cell_type": "code",
   "execution_count": null,
   "id": "46e7aede",
   "metadata": {},
   "outputs": [],
   "source": []
  }
 ],
 "metadata": {
  "kernelspec": {
   "display_name": "Python 3 (ipykernel)",
   "language": "python",
   "name": "python3"
  },
  "language_info": {
   "codemirror_mode": {
    "name": "ipython",
    "version": 3
   },
   "file_extension": ".py",
   "mimetype": "text/x-python",
   "name": "python",
   "nbconvert_exporter": "python",
   "pygments_lexer": "ipython3",
   "version": "3.9.13"
  }
 },
 "nbformat": 4,
 "nbformat_minor": 5
}
